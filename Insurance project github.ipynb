{
 "cells": [
  {
   "cell_type": "code",
   "execution_count": 2,
   "id": "4e2e9f8b",
   "metadata": {},
   "outputs": [],
   "source": [
    "import pandas as pd\n",
    "import numpy as np\n",
    "import matplotlib.pyplot as plt"
   ]
  },
  {
   "cell_type": "code",
   "execution_count": 4,
   "id": "80e491c0",
   "metadata": {},
   "outputs": [],
   "source": [
    "#data=pd.read_csv('ins.csv')"
   ]
  },
  {
   "cell_type": "code",
   "execution_count": 5,
   "id": "0bb624d3",
   "metadata": {},
   "outputs": [
    {
     "data": {
      "text/html": [
       "<div>\n",
       "<style scoped>\n",
       "    .dataframe tbody tr th:only-of-type {\n",
       "        vertical-align: middle;\n",
       "    }\n",
       "\n",
       "    .dataframe tbody tr th {\n",
       "        vertical-align: top;\n",
       "    }\n",
       "\n",
       "    .dataframe thead th {\n",
       "        text-align: right;\n",
       "    }\n",
       "</style>\n",
       "<table border=\"1\" class=\"dataframe\">\n",
       "  <thead>\n",
       "    <tr style=\"text-align: right;\">\n",
       "      <th></th>\n",
       "      <th>PatientID</th>\n",
       "      <th>age</th>\n",
       "      <th>gender</th>\n",
       "      <th>bmi</th>\n",
       "      <th>bloodpressure</th>\n",
       "      <th>diabetic</th>\n",
       "      <th>children</th>\n",
       "      <th>smoker</th>\n",
       "      <th>region</th>\n",
       "      <th>claim</th>\n",
       "    </tr>\n",
       "  </thead>\n",
       "  <tbody>\n",
       "    <tr>\n",
       "      <th>0</th>\n",
       "      <td>1</td>\n",
       "      <td>39.0</td>\n",
       "      <td>male</td>\n",
       "      <td>23.2</td>\n",
       "      <td>91</td>\n",
       "      <td>Yes</td>\n",
       "      <td>0</td>\n",
       "      <td>No</td>\n",
       "      <td>southeast</td>\n",
       "      <td>1121.87</td>\n",
       "    </tr>\n",
       "    <tr>\n",
       "      <th>1</th>\n",
       "      <td>2</td>\n",
       "      <td>24.0</td>\n",
       "      <td>male</td>\n",
       "      <td>30.1</td>\n",
       "      <td>87</td>\n",
       "      <td>No</td>\n",
       "      <td>0</td>\n",
       "      <td>No</td>\n",
       "      <td>southeast</td>\n",
       "      <td>1131.51</td>\n",
       "    </tr>\n",
       "    <tr>\n",
       "      <th>2</th>\n",
       "      <td>3</td>\n",
       "      <td>NaN</td>\n",
       "      <td>male</td>\n",
       "      <td>33.3</td>\n",
       "      <td>82</td>\n",
       "      <td>Yes</td>\n",
       "      <td>0</td>\n",
       "      <td>No</td>\n",
       "      <td>southeast</td>\n",
       "      <td>1135.94</td>\n",
       "    </tr>\n",
       "    <tr>\n",
       "      <th>3</th>\n",
       "      <td>4</td>\n",
       "      <td>NaN</td>\n",
       "      <td>male</td>\n",
       "      <td>33.7</td>\n",
       "      <td>80</td>\n",
       "      <td>No</td>\n",
       "      <td>0</td>\n",
       "      <td>No</td>\n",
       "      <td>northwest</td>\n",
       "      <td>1136.40</td>\n",
       "    </tr>\n",
       "    <tr>\n",
       "      <th>4</th>\n",
       "      <td>5</td>\n",
       "      <td>NaN</td>\n",
       "      <td>male</td>\n",
       "      <td>34.1</td>\n",
       "      <td>100</td>\n",
       "      <td>No</td>\n",
       "      <td>0</td>\n",
       "      <td>No</td>\n",
       "      <td>northwest</td>\n",
       "      <td>1137.01</td>\n",
       "    </tr>\n",
       "    <tr>\n",
       "      <th>...</th>\n",
       "      <td>...</td>\n",
       "      <td>...</td>\n",
       "      <td>...</td>\n",
       "      <td>...</td>\n",
       "      <td>...</td>\n",
       "      <td>...</td>\n",
       "      <td>...</td>\n",
       "      <td>...</td>\n",
       "      <td>...</td>\n",
       "      <td>...</td>\n",
       "    </tr>\n",
       "    <tr>\n",
       "      <th>1335</th>\n",
       "      <td>1336</td>\n",
       "      <td>44.0</td>\n",
       "      <td>female</td>\n",
       "      <td>35.5</td>\n",
       "      <td>88</td>\n",
       "      <td>Yes</td>\n",
       "      <td>0</td>\n",
       "      <td>Yes</td>\n",
       "      <td>northwest</td>\n",
       "      <td>55135.40</td>\n",
       "    </tr>\n",
       "    <tr>\n",
       "      <th>1336</th>\n",
       "      <td>1337</td>\n",
       "      <td>59.0</td>\n",
       "      <td>female</td>\n",
       "      <td>38.1</td>\n",
       "      <td>120</td>\n",
       "      <td>No</td>\n",
       "      <td>1</td>\n",
       "      <td>Yes</td>\n",
       "      <td>northeast</td>\n",
       "      <td>58571.07</td>\n",
       "    </tr>\n",
       "    <tr>\n",
       "      <th>1337</th>\n",
       "      <td>1338</td>\n",
       "      <td>30.0</td>\n",
       "      <td>male</td>\n",
       "      <td>34.5</td>\n",
       "      <td>91</td>\n",
       "      <td>Yes</td>\n",
       "      <td>3</td>\n",
       "      <td>Yes</td>\n",
       "      <td>northwest</td>\n",
       "      <td>60021.40</td>\n",
       "    </tr>\n",
       "    <tr>\n",
       "      <th>1338</th>\n",
       "      <td>1339</td>\n",
       "      <td>37.0</td>\n",
       "      <td>male</td>\n",
       "      <td>30.4</td>\n",
       "      <td>106</td>\n",
       "      <td>No</td>\n",
       "      <td>0</td>\n",
       "      <td>Yes</td>\n",
       "      <td>southeast</td>\n",
       "      <td>62592.87</td>\n",
       "    </tr>\n",
       "    <tr>\n",
       "      <th>1339</th>\n",
       "      <td>1340</td>\n",
       "      <td>30.0</td>\n",
       "      <td>female</td>\n",
       "      <td>47.4</td>\n",
       "      <td>101</td>\n",
       "      <td>No</td>\n",
       "      <td>0</td>\n",
       "      <td>Yes</td>\n",
       "      <td>southeast</td>\n",
       "      <td>63770.43</td>\n",
       "    </tr>\n",
       "  </tbody>\n",
       "</table>\n",
       "<p>1340 rows × 10 columns</p>\n",
       "</div>"
      ],
      "text/plain": [
       "      PatientID   age  gender   bmi  bloodpressure diabetic  children smoker  \\\n",
       "0             1  39.0    male  23.2             91      Yes         0     No   \n",
       "1             2  24.0    male  30.1             87       No         0     No   \n",
       "2             3   NaN    male  33.3             82      Yes         0     No   \n",
       "3             4   NaN    male  33.7             80       No         0     No   \n",
       "4             5   NaN    male  34.1            100       No         0     No   \n",
       "...         ...   ...     ...   ...            ...      ...       ...    ...   \n",
       "1335       1336  44.0  female  35.5             88      Yes         0    Yes   \n",
       "1336       1337  59.0  female  38.1            120       No         1    Yes   \n",
       "1337       1338  30.0    male  34.5             91      Yes         3    Yes   \n",
       "1338       1339  37.0    male  30.4            106       No         0    Yes   \n",
       "1339       1340  30.0  female  47.4            101       No         0    Yes   \n",
       "\n",
       "         region     claim  \n",
       "0     southeast   1121.87  \n",
       "1     southeast   1131.51  \n",
       "2     southeast   1135.94  \n",
       "3     northwest   1136.40  \n",
       "4     northwest   1137.01  \n",
       "...         ...       ...  \n",
       "1335  northwest  55135.40  \n",
       "1336  northeast  58571.07  \n",
       "1337  northwest  60021.40  \n",
       "1338  southeast  62592.87  \n",
       "1339  southeast  63770.43  \n",
       "\n",
       "[1340 rows x 10 columns]"
      ]
     },
     "execution_count": 5,
     "metadata": {},
     "output_type": "execute_result"
    }
   ],
   "source": [
    "data=pd.read_csv(r\"D:\\insurance_data.csv\")\n",
    "data"
   ]
  },
  {
   "cell_type": "markdown",
   "id": "35ddabf3",
   "metadata": {},
   "source": [
    "This dataset is of health insurance company in which we are given details about their customers and amount they paid as medical costs for their customer"
   ]
  },
  {
   "cell_type": "raw",
   "id": "dbc98c56",
   "metadata": {},
   "source": [
    "what does the rows and columns represent in this data?\n",
    "why is it important for us to study the claim amount?\n",
    "what does target claim depends on?"
   ]
  },
  {
   "cell_type": "code",
   "execution_count": 48,
   "id": "d9a437ee",
   "metadata": {},
   "outputs": [
    {
     "data": {
      "text/plain": [
       "Index(['PatientID', 'age', 'gender', 'bmi', 'bloodpressure', 'diabetic',\n",
       "       'children', 'smoker', 'region', 'claim'],\n",
       "      dtype='object')"
      ]
     },
     "execution_count": 48,
     "metadata": {},
     "output_type": "execute_result"
    }
   ],
   "source": [
    "data.columns"
   ]
  },
  {
   "cell_type": "raw",
   "id": "10084cb8",
   "metadata": {},
   "source": [
    "#every row in this dataset represents a unique patient which took insurance from our client\n",
    "#age represents age of patient(at time of application)\n",
    "#bmi(body mass index) represents the calculated bmi for every patient bmi=weight(in_kg)/height^2(in _m)\n",
    "#bp gives reading of bp of patient while application of insurance\n",
    "# diabetic it is categorical variable representing if a patient is daibetic or not\n",
    "# region is also a categorical variable it is divided into 4 cagtegories\n",
    "# claim is our target variable it represents medical costs billed by health insurance "
   ]
  },
  {
   "cell_type": "markdown",
   "id": "23b08a8f",
   "metadata": {},
   "source": [
    "PROBLEM STATEMENT:\n",
    "Design a regression model so that we can predict the costs to the company for settling medical bills of their customers based on theirs on characteristics"
   ]
  },
  {
   "cell_type": "markdown",
   "id": "79d060f1",
   "metadata": {},
   "source": [
    "Life and Health Insurance companies have to invest most in long term investments\n",
    "they have to maintain some liquidity for near term costs for which they have to choose their investments wisely if we can predict the claims they would have to settle in near future they can invest wisely"
   ]
  },
  {
   "cell_type": "code",
   "execution_count": 31,
   "id": "ae21c74d",
   "metadata": {},
   "outputs": [
    {
     "data": {
      "text/plain": [
       "PatientID        0\n",
       "age              5\n",
       "gender           0\n",
       "bmi              0\n",
       "bloodpressure    0\n",
       "diabetic         0\n",
       "children         0\n",
       "smoker           0\n",
       "region           3\n",
       "claim            0\n",
       "dtype: int64"
      ]
     },
     "execution_count": 31,
     "metadata": {},
     "output_type": "execute_result"
    }
   ],
   "source": [
    "data.isna().sum()"
   ]
  },
  {
   "cell_type": "code",
   "execution_count": 32,
   "id": "0f1810d0",
   "metadata": {},
   "outputs": [
    {
     "data": {
      "text/html": [
       "<div>\n",
       "<style scoped>\n",
       "    .dataframe tbody tr th:only-of-type {\n",
       "        vertical-align: middle;\n",
       "    }\n",
       "\n",
       "    .dataframe tbody tr th {\n",
       "        vertical-align: top;\n",
       "    }\n",
       "\n",
       "    .dataframe thead th {\n",
       "        text-align: right;\n",
       "    }\n",
       "</style>\n",
       "<table border=\"1\" class=\"dataframe\">\n",
       "  <thead>\n",
       "    <tr style=\"text-align: right;\">\n",
       "      <th></th>\n",
       "      <th>PatientID</th>\n",
       "      <th>age</th>\n",
       "      <th>bmi</th>\n",
       "      <th>bloodpressure</th>\n",
       "      <th>children</th>\n",
       "      <th>claim</th>\n",
       "    </tr>\n",
       "  </thead>\n",
       "  <tbody>\n",
       "    <tr>\n",
       "      <th>count</th>\n",
       "      <td>1340.000000</td>\n",
       "      <td>1335.000000</td>\n",
       "      <td>1340.000000</td>\n",
       "      <td>1340.000000</td>\n",
       "      <td>1340.000000</td>\n",
       "      <td>1340.000000</td>\n",
       "    </tr>\n",
       "    <tr>\n",
       "      <th>mean</th>\n",
       "      <td>670.500000</td>\n",
       "      <td>38.078652</td>\n",
       "      <td>30.668955</td>\n",
       "      <td>94.157463</td>\n",
       "      <td>1.093284</td>\n",
       "      <td>13252.745642</td>\n",
       "    </tr>\n",
       "    <tr>\n",
       "      <th>std</th>\n",
       "      <td>386.968991</td>\n",
       "      <td>11.102924</td>\n",
       "      <td>6.106735</td>\n",
       "      <td>11.434712</td>\n",
       "      <td>1.205334</td>\n",
       "      <td>12109.609288</td>\n",
       "    </tr>\n",
       "    <tr>\n",
       "      <th>min</th>\n",
       "      <td>1.000000</td>\n",
       "      <td>18.000000</td>\n",
       "      <td>16.000000</td>\n",
       "      <td>80.000000</td>\n",
       "      <td>0.000000</td>\n",
       "      <td>1121.870000</td>\n",
       "    </tr>\n",
       "    <tr>\n",
       "      <th>25%</th>\n",
       "      <td>335.750000</td>\n",
       "      <td>29.000000</td>\n",
       "      <td>26.275000</td>\n",
       "      <td>86.000000</td>\n",
       "      <td>0.000000</td>\n",
       "      <td>4719.685000</td>\n",
       "    </tr>\n",
       "    <tr>\n",
       "      <th>50%</th>\n",
       "      <td>670.500000</td>\n",
       "      <td>38.000000</td>\n",
       "      <td>30.400000</td>\n",
       "      <td>92.000000</td>\n",
       "      <td>1.000000</td>\n",
       "      <td>9369.615000</td>\n",
       "    </tr>\n",
       "    <tr>\n",
       "      <th>75%</th>\n",
       "      <td>1005.250000</td>\n",
       "      <td>47.000000</td>\n",
       "      <td>34.700000</td>\n",
       "      <td>99.000000</td>\n",
       "      <td>2.000000</td>\n",
       "      <td>16604.305000</td>\n",
       "    </tr>\n",
       "    <tr>\n",
       "      <th>max</th>\n",
       "      <td>1340.000000</td>\n",
       "      <td>60.000000</td>\n",
       "      <td>53.100000</td>\n",
       "      <td>140.000000</td>\n",
       "      <td>5.000000</td>\n",
       "      <td>63770.430000</td>\n",
       "    </tr>\n",
       "  </tbody>\n",
       "</table>\n",
       "</div>"
      ],
      "text/plain": [
       "         PatientID          age          bmi  bloodpressure     children  \\\n",
       "count  1340.000000  1335.000000  1340.000000    1340.000000  1340.000000   \n",
       "mean    670.500000    38.078652    30.668955      94.157463     1.093284   \n",
       "std     386.968991    11.102924     6.106735      11.434712     1.205334   \n",
       "min       1.000000    18.000000    16.000000      80.000000     0.000000   \n",
       "25%     335.750000    29.000000    26.275000      86.000000     0.000000   \n",
       "50%     670.500000    38.000000    30.400000      92.000000     1.000000   \n",
       "75%    1005.250000    47.000000    34.700000      99.000000     2.000000   \n",
       "max    1340.000000    60.000000    53.100000     140.000000     5.000000   \n",
       "\n",
       "              claim  \n",
       "count   1340.000000  \n",
       "mean   13252.745642  \n",
       "std    12109.609288  \n",
       "min     1121.870000  \n",
       "25%     4719.685000  \n",
       "50%     9369.615000  \n",
       "75%    16604.305000  \n",
       "max    63770.430000  "
      ]
     },
     "execution_count": 32,
     "metadata": {},
     "output_type": "execute_result"
    }
   ],
   "source": [
    "data.describe()"
   ]
  },
  {
   "cell_type": "code",
   "execution_count": 38,
   "id": "d0574d69",
   "metadata": {},
   "outputs": [],
   "source": [
    "data=data.dropna(subset=['region'])"
   ]
  },
  {
   "cell_type": "code",
   "execution_count": 42,
   "id": "624ce556",
   "metadata": {},
   "outputs": [
    {
     "name": "stderr",
     "output_type": "stream",
     "text": [
      "C:\\Users\\SHIMAN~1\\AppData\\Local\\Temp/ipykernel_21600/3495599247.py:1: SettingWithCopyWarning: \n",
      "A value is trying to be set on a copy of a slice from a DataFrame.\n",
      "Try using .loc[row_indexer,col_indexer] = value instead\n",
      "\n",
      "See the caveats in the documentation: https://pandas.pydata.org/pandas-docs/stable/user_guide/indexing.html#returning-a-view-versus-a-copy\n",
      "  data['age']=data['age'].fillna(np.mean(data.age))\n"
     ]
    }
   ],
   "source": [
    "data['age']=data['age'].fillna(np.mean(data.age))"
   ]
  },
  {
   "cell_type": "code",
   "execution_count": 54,
   "id": "250eb0cc",
   "metadata": {},
   "outputs": [
    {
     "data": {
      "text/plain": [
       "array([[<AxesSubplot:title={'center':'bmi'}>]], dtype=object)"
      ]
     },
     "execution_count": 54,
     "metadata": {},
     "output_type": "execute_result"
    },
    {
     "data": {
      "image/png": "[encoded data removed]",
      "text/plain": [
       "<Figure size 432x288 with 1 Axes>"
      ]
     },
     "metadata": {
      "needs_background": "light"
     },
     "output_type": "display_data"
    }
   ],
   "source": [
    "data.hist(['bmi'])"
   ]
  },
  {
   "cell_type": "code",
   "execution_count": 55,
   "id": "19b18ed9",
   "metadata": {},
   "outputs": [
    {
     "data": {
      "text/plain": [
       "array([[<AxesSubplot:title={'center':'age'}>]], dtype=object)"
      ]
     },
     "execution_count": 55,
     "metadata": {},
     "output_type": "execute_result"
    },
    {
     "data": {
      "image/png": "[encoded data removed]",
      "text/plain": [
       "<Figure size 432x288 with 1 Axes>"
      ]
     },
     "metadata": {
      "needs_background": "light"
     },
     "output_type": "display_data"
    }
   ],
   "source": [
    "data.hist(['age'])"
   ]
  },
  {
   "cell_type": "code",
   "execution_count": 56,
   "id": "e3840da4",
   "metadata": {},
   "outputs": [
    {
     "data": {
      "text/plain": [
       "array([[<AxesSubplot:title={'center':'bloodpressure'}>]], dtype=object)"
      ]
     },
     "execution_count": 56,
     "metadata": {},
     "output_type": "execute_result"
    },
    {
     "data": {
      "image/png": "[encoded data removed]",
      "text/plain": [
       "<Figure size 432x288 with 1 Axes>"
      ]
     },
     "metadata": {
      "needs_background": "light"
     },
     "output_type": "display_data"
    }
   ],
   "source": [
    "data.hist(['bloodpressure'])"
   ]
  },
  {
   "cell_type": "code",
   "execution_count": 89,
   "id": "c0e1c63b",
   "metadata": {},
   "outputs": [
    {
     "data": {
      "text/plain": [
       "array([[<AxesSubplot:title={'center':'claim'}>]], dtype=object)"
      ]
     },
     "execution_count": 89,
     "metadata": {},
     "output_type": "execute_result"
    },
    {
     "data": {
      "image/png": "[encoded data removed]",
      "text/plain": [
       "<Figure size 432x288 with 1 Axes>"
      ]
     },
     "metadata": {
      "needs_background": "light"
     },
     "output_type": "display_data"
    }
   ],
   "source": [
    "data.hist(['claim'])"
   ]
  },
  {
   "cell_type": "code",
   "execution_count": 60,
   "id": "fbb10c0e",
   "metadata": {},
   "outputs": [
    {
     "data": {
      "text/plain": [
       "<AxesSubplot:>"
      ]
     },
     "execution_count": 60,
     "metadata": {},
     "output_type": "execute_result"
    },
    {
     "data": {
      "image/png": "[encoded data removed]",
      "text/plain": [
       "<Figure size 432x288 with 1 Axes>"
      ]
     },
     "metadata": {
      "needs_background": "light"
     },
     "output_type": "display_data"
    }
   ],
   "source": [
    "data['gender'].value_counts().plot(kind='bar', figsize=(6,4),color='turquoise', fontsize=12, rot=0)\n"
   ]
  },
  {
   "cell_type": "code",
   "execution_count": 86,
   "id": "3590d4cf",
   "metadata": {},
   "outputs": [
    {
     "data": {
      "text/plain": [
       "<AxesSubplot:>"
      ]
     },
     "execution_count": 86,
     "metadata": {},
     "output_type": "execute_result"
    },
    {
     "data": {
      "image/png": "[encoded data removed]",
      "text/plain": [
       "<Figure size 432x288 with 1 Axes>"
      ]
     },
     "metadata": {
      "needs_background": "light"
     },
     "output_type": "display_data"
    }
   ],
   "source": [
    "data['diabetic'].value_counts().plot(kind='bar', figsize=(6,4),color='turquoise', fontsize=12, rot=0)\n"
   ]
  },
  {
   "cell_type": "code",
   "execution_count": 80,
   "id": "aba87416",
   "metadata": {},
   "outputs": [
    {
     "data": {
      "text/plain": [
       "<AxesSubplot:>"
      ]
     },
     "execution_count": 80,
     "metadata": {},
     "output_type": "execute_result"
    },
    {
     "data": {
      "image/png": "[encoded data removed]",
      "text/plain": [
       "<Figure size 432x288 with 1 Axes>"
      ]
     },
     "metadata": {
      "needs_background": "light"
     },
     "output_type": "display_data"
    }
   ],
   "source": [
    "data['children'].value_counts().plot(kind='bar', figsize=(6,4),color='turquoise', fontsize=12, rot=0)"
   ]
  },
  {
   "cell_type": "code",
   "execution_count": 84,
   "id": "b8958e98",
   "metadata": {},
   "outputs": [
    {
     "data": {
      "text/plain": [
       "<AxesSubplot:>"
      ]
     },
     "execution_count": 84,
     "metadata": {},
     "output_type": "execute_result"
    },
    {
     "data": {
      "image/png": "[encoded data removed]",
      "text/plain": [
       "<Figure size 432x288 with 1 Axes>"
      ]
     },
     "metadata": {
      "needs_background": "light"
     },
     "output_type": "display_data"
    }
   ],
   "source": [
    "data['smoker'].value_counts().plot(kind='bar', figsize=(6,4),color='turquoise', fontsize=12, rot=0)\n"
   ]
  },
  {
   "cell_type": "code",
   "execution_count": 82,
   "id": "9e9777b4",
   "metadata": {},
   "outputs": [
    {
     "data": {
      "text/plain": [
       "<AxesSubplot:>"
      ]
     },
     "execution_count": 82,
     "metadata": {},
     "output_type": "execute_result"
    },
    {
     "data": {
      "image/png": "[encoded data removed]",
      "text/plain": [
       "<Figure size 432x288 with 1 Axes>"
      ]
     },
     "metadata": {
      "needs_background": "light"
     },
     "output_type": "display_data"
    }
   ],
   "source": [
    "data['region'].value_counts().plot(kind='bar', figsize=(6,4),color='turquoise', fontsize=12, rot=0)"
   ]
  },
  {
   "cell_type": "code",
   "execution_count": 75,
   "id": "8c29b95b",
   "metadata": {},
   "outputs": [
    {
     "data": {
      "image/png": "[encoded data removed]",
      "text/plain": [
       "<Figure size 288x288 with 1 Axes>"
      ]
     },
     "metadata": {
      "needs_background": "light"
     },
     "output_type": "display_data"
    },
    {
     "data": {
      "image/png": "[encoded data removed]",
      "text/plain": [
       "<Figure size 576x432 with 1 Axes>"
      ]
     },
     "metadata": {
      "needs_background": "light"
     },
     "output_type": "display_data"
    }
   ],
   "source": [
    "data[['gender','claim']].groupby(['gender']).mean().plot(kind='bar', figsize=(4,4), fontsize=12,rot=45)\n",
    "plt.show()\n",
    "data.boxplot(column='claim', notch=True, by='gender',grid=False,figsize=(8,6), rot=45, vert=False)\n",
    "plt.show()"
   ]
  },
  {
   "cell_type": "code",
   "execution_count": 87,
   "id": "c73cf76b",
   "metadata": {},
   "outputs": [
    {
     "data": {
      "image/png": "[encoded data removed]",
      "text/plain": [
       "<Figure size 288x288 with 1 Axes>"
      ]
     },
     "metadata": {
      "needs_background": "light"
     },
     "output_type": "display_data"
    },
    {
     "data": {
      "image/png": "[encoded data removed]",
      "text/plain": [
       "<Figure size 576x432 with 1 Axes>"
      ]
     },
     "metadata": {
      "needs_background": "light"
     },
     "output_type": "display_data"
    }
   ],
   "source": [
    "data[['diabetic','claim']].groupby(['diabetic']).mean().plot(kind='bar', figsize=(4,4), fontsize=12,rot=45)\n",
    "plt.show()\n",
    "data.boxplot(column='claim', notch=True, by='diabetic',grid=False,figsize=(8,6), rot=45, vert=False)\n",
    "plt.show()"
   ]
  },
  {
   "cell_type": "code",
   "execution_count": 85,
   "id": "327c0739",
   "metadata": {},
   "outputs": [
    {
     "data": {
      "image/png": "[encoded data removed]",
      "text/plain": [
       "<Figure size 288x288 with 1 Axes>"
      ]
     },
     "metadata": {
      "needs_background": "light"
     },
     "output_type": "display_data"
    },
    {
     "data": {
      "image/png": "[encoded data removed]",
      "text/plain": [
       "<Figure size 576x432 with 1 Axes>"
      ]
     },
     "metadata": {
      "needs_background": "light"
     },
     "output_type": "display_data"
    }
   ],
   "source": [
    "data[['smoker','claim']].groupby(['smoker']).mean().plot(kind='bar', figsize=(4,4), fontsize=12,rot=45)\n",
    "plt.show()\n",
    "data.boxplot(column='claim', notch=True, by='smoker',grid=False,figsize=(8,6), rot=45, vert=False)\n",
    "plt.show()"
   ]
  },
  {
   "cell_type": "code",
   "execution_count": 83,
   "id": "b98dd8ce",
   "metadata": {},
   "outputs": [
    {
     "data": {
      "image/png": "[encoded data removed]",
      "text/plain": [
       "<Figure size 288x288 with 1 Axes>"
      ]
     },
     "metadata": {
      "needs_background": "light"
     },
     "output_type": "display_data"
    },
    {
     "data": {
      "image/png": "[encoded data removed]",
      "text/plain": [
       "<Figure size 576x432 with 1 Axes>"
      ]
     },
     "metadata": {
      "needs_background": "light"
     },
     "output_type": "display_data"
    }
   ],
   "source": [
    "data[['region','claim']].groupby(['region']).mean().plot(kind='bar', figsize=(4,4), fontsize=12,rot=45)\n",
    "plt.show()\n",
    "data.boxplot(column='claim', notch=True, by='region',grid=False,figsize=(8,6), rot=45, vert=False)\n",
    "plt.show()"
   ]
  },
  {
   "cell_type": "code",
   "execution_count": 72,
   "id": "fb18da73",
   "metadata": {},
   "outputs": [
    {
     "data": {
      "text/html": [
       "<div>\n",
       "<style scoped>\n",
       "    .dataframe tbody tr th:only-of-type {\n",
       "        vertical-align: middle;\n",
       "    }\n",
       "\n",
       "    .dataframe tbody tr th {\n",
       "        vertical-align: top;\n",
       "    }\n",
       "\n",
       "    .dataframe thead th {\n",
       "        text-align: right;\n",
       "    }\n",
       "</style>\n",
       "<table border=\"1\" class=\"dataframe\">\n",
       "  <thead>\n",
       "    <tr style=\"text-align: right;\">\n",
       "      <th></th>\n",
       "      <th>PatientID</th>\n",
       "      <th>age</th>\n",
       "      <th>bmi</th>\n",
       "      <th>bloodpressure</th>\n",
       "      <th>children</th>\n",
       "      <th>claim</th>\n",
       "    </tr>\n",
       "  </thead>\n",
       "  <tbody>\n",
       "    <tr>\n",
       "      <th>PatientID</th>\n",
       "      <td>1.000000</td>\n",
       "      <td>-0.008656</td>\n",
       "      <td>0.114410</td>\n",
       "      <td>0.450694</td>\n",
       "      <td>0.125173</td>\n",
       "      <td>0.879304</td>\n",
       "    </tr>\n",
       "    <tr>\n",
       "      <th>age</th>\n",
       "      <td>-0.008656</td>\n",
       "      <td>1.000000</td>\n",
       "      <td>-0.042115</td>\n",
       "      <td>-0.060244</td>\n",
       "      <td>-0.026167</td>\n",
       "      <td>-0.028582</td>\n",
       "    </tr>\n",
       "    <tr>\n",
       "      <th>bmi</th>\n",
       "      <td>0.114410</td>\n",
       "      <td>-0.042115</td>\n",
       "      <td>1.000000</td>\n",
       "      <td>0.143566</td>\n",
       "      <td>0.011514</td>\n",
       "      <td>0.197000</td>\n",
       "    </tr>\n",
       "    <tr>\n",
       "      <th>bloodpressure</th>\n",
       "      <td>0.450694</td>\n",
       "      <td>-0.060244</td>\n",
       "      <td>0.143566</td>\n",
       "      <td>1.000000</td>\n",
       "      <td>-0.032656</td>\n",
       "      <td>0.531339</td>\n",
       "    </tr>\n",
       "    <tr>\n",
       "      <th>children</th>\n",
       "      <td>0.125173</td>\n",
       "      <td>-0.026167</td>\n",
       "      <td>0.011514</td>\n",
       "      <td>-0.032656</td>\n",
       "      <td>1.000000</td>\n",
       "      <td>0.067351</td>\n",
       "    </tr>\n",
       "    <tr>\n",
       "      <th>claim</th>\n",
       "      <td>0.879304</td>\n",
       "      <td>-0.028582</td>\n",
       "      <td>0.197000</td>\n",
       "      <td>0.531339</td>\n",
       "      <td>0.067351</td>\n",
       "      <td>1.000000</td>\n",
       "    </tr>\n",
       "  </tbody>\n",
       "</table>\n",
       "</div>"
      ],
      "text/plain": [
       "               PatientID       age       bmi  bloodpressure  children  \\\n",
       "PatientID       1.000000 -0.008656  0.114410       0.450694  0.125173   \n",
       "age            -0.008656  1.000000 -0.042115      -0.060244 -0.026167   \n",
       "bmi             0.114410 -0.042115  1.000000       0.143566  0.011514   \n",
       "bloodpressure   0.450694 -0.060244  0.143566       1.000000 -0.032656   \n",
       "children        0.125173 -0.026167  0.011514      -0.032656  1.000000   \n",
       "claim           0.879304 -0.028582  0.197000       0.531339  0.067351   \n",
       "\n",
       "                  claim  \n",
       "PatientID      0.879304  \n",
       "age           -0.028582  \n",
       "bmi            0.197000  \n",
       "bloodpressure  0.531339  \n",
       "children       0.067351  \n",
       "claim          1.000000  "
      ]
     },
     "execution_count": 72,
     "metadata": {},
     "output_type": "execute_result"
    }
   ],
   "source": [
    "corr=data.corr()\n",
    "corr"
   ]
  },
  {
   "cell_type": "code",
   "execution_count": null,
   "id": "86349c56",
   "metadata": {},
   "outputs": [],
   "source": []
  },
  {
   "cell_type": "code",
   "execution_count": null,
   "id": "62ed784a",
   "metadata": {},
   "outputs": [],
   "source": []
  },
  {
   "cell_type": "code",
   "execution_count": null,
   "id": "15d2834f",
   "metadata": {},
   "outputs": [],
   "source": []
  },
  {
   "cell_type": "code",
   "execution_count": null,
   "id": "72312893",
   "metadata": {},
   "outputs": [],
   "source": []
  },
  {
   "cell_type": "code",
   "execution_count": null,
   "id": "3de2a87b",
   "metadata": {},
   "outputs": [],
   "source": []
  },
  {
   "cell_type": "code",
   "execution_count": null,
   "id": "e344d919",
   "metadata": {},
   "outputs": [],
   "source": []
  },
  {
   "cell_type": "code",
   "execution_count": null,
   "id": "c6fac07d",
   "metadata": {},
   "outputs": [],
   "source": []
  },
  {
   "cell_type": "code",
   "execution_count": null,
   "id": "c2bf65c6",
   "metadata": {},
   "outputs": [],
   "source": []
  },
  {
   "cell_type": "code",
   "execution_count": null,
   "id": "82278e07",
   "metadata": {},
   "outputs": [],
   "source": []
  }
 ],
 "metadata": {
  "kernelspec": {
   "display_name": "Python 3 (ipykernel)",
   "language": "python",
   "name": "python3"
  },
  "language_info": {
   "codemirror_mode": {
    "name": "ipython",
    "version": 3
   },
   "file_extension": ".py",
   "mimetype": "text/x-python",
   "name": "python",
   "nbconvert_exporter": "python",
   "pygments_lexer": "ipython3",
   "version": "3.9.12"
  }
 },
 "nbformat": 4,
 "nbformat_minor": 5
}
